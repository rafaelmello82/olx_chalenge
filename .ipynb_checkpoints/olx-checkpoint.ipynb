{
 "cells": [
  {
   "cell_type": "markdown",
   "metadata": {},
   "source": [
    "# A/B Test For The New Feature On The Home Page In The  Desktop Version "
   ]
  },
  {
   "cell_type": "markdown",
   "metadata": {},
   "source": [
    "One of our main goals at OLX is to connect buyers with sellers. A reply is when this connection happens.\n",
    "With that goal in mind we recently did a change in our homepage search feature for desktop (in one of our products). It is now possible for users to filter by more characterisctics directly in the home page. This wasn't possible before\n",
    "The change happened on the 16th Jan and there were some issues with the feature happening until the 22nd Jan.\n"
   ]
  },
  {
   "cell_type": "markdown",
   "metadata": {},
   "source": [
    "**This is the dashboard created for our analysis**"
   ]
  },
  {
   "cell_type": "code",
   "execution_count": 1,
   "metadata": {},
   "outputs": [
    {
     "data": {
      "text/html": [
       "<div class='tableauPlaceholder' id='viz1619639794787' style='position: relative'><noscript><a href='#'><img alt='Dashboard ' src='https:&#47;&#47;public.tableau.com&#47;static&#47;images&#47;Ol&#47;Olx&#47;Dashboard&#47;1_rss.png' style='border: none' /></a></noscript><object class='tableauViz'  style='display:none;'><param name='host_url' value='https%3A%2F%2Fpublic.tableau.com%2F' /> <param name='embed_code_version' value='3' /> <param name='site_root' value='' /><param name='name' value='Olx&#47;Dashboard' /><param name='tabs' value='no' /><param name='toolbar' value='yes' /><param name='static_image' value='https:&#47;&#47;public.tableau.com&#47;static&#47;images&#47;Ol&#47;Olx&#47;Dashboard&#47;1.png' /> <param name='animate_transition' value='yes' /><param name='display_static_image' value='yes' /><param name='display_spinner' value='yes' /><param name='display_overlay' value='yes' /><param name='display_count' value='yes' /><param name='language' value='en' /><param name='filter' value='publish=yes' /></object></div>                <script type='text/javascript'>                    var divElement = document.getElementById('viz1619639794787');                    var vizElement = divElement.getElementsByTagName('object')[0];                    vizElement.style.width='100%';vizElement.style.height=(divElement.offsetWidth*0.75)+'px';                    var scriptElement = document.createElement('script');                    scriptElement.src = 'https://public.tableau.com/javascripts/api/viz_v1.js';                    vizElement.parentNode.insertBefore(scriptElement, vizElement);                </script>\n"
      ],
      "text/plain": [
       "<IPython.core.display.HTML object>"
      ]
     },
     "metadata": {},
     "output_type": "display_data"
    }
   ],
   "source": [
    "%%html\n",
    "<div class='tableauPlaceholder' id='viz1619639794787' style='position: relative'><noscript><a href='#'><img alt='Dashboard ' src='https:&#47;&#47;public.tableau.com&#47;static&#47;images&#47;Ol&#47;Olx&#47;Dashboard&#47;1_rss.png' style='border: none' /></a></noscript><object class='tableauViz'  style='display:none;'><param name='host_url' value='https%3A%2F%2Fpublic.tableau.com%2F' /> <param name='embed_code_version' value='3' /> <param name='site_root' value='' /><param name='name' value='Olx&#47;Dashboard' /><param name='tabs' value='no' /><param name='toolbar' value='yes' /><param name='static_image' value='https:&#47;&#47;public.tableau.com&#47;static&#47;images&#47;Ol&#47;Olx&#47;Dashboard&#47;1.png' /> <param name='animate_transition' value='yes' /><param name='display_static_image' value='yes' /><param name='display_spinner' value='yes' /><param name='display_overlay' value='yes' /><param name='display_count' value='yes' /><param name='language' value='en' /><param name='filter' value='publish=yes' /></object></div>                <script type='text/javascript'>                    var divElement = document.getElementById('viz1619639794787');                    var vizElement = divElement.getElementsByTagName('object')[0];                    vizElement.style.width='100%';vizElement.style.height=(divElement.offsetWidth*0.75)+'px';                    var scriptElement = document.createElement('script');                    scriptElement.src = 'https://public.tableau.com/javascripts/api/viz_v1.js';                    vizElement.parentNode.insertBefore(scriptElement, vizElement);                </script>\n"
   ]
  },
  {
   "cell_type": "code",
   "execution_count": 2,
   "metadata": {},
   "outputs": [],
   "source": [
    "# Importing libraries\n",
    "\n",
    "import pandas as pd\n",
    "import numpy as np\n",
    "import seaborn as sns \n",
    "import matplotlib.pyplot as plt \n",
    "%matplotlib inline \n",
    "sns.set(color_codes=True)\n",
    "import warnings\n",
    "warnings.filterwarnings(\"ignore\")\n",
    "from scipy import stats\n",
    "from statsmodels.stats import weightstats as stests "
   ]
  },
  {
   "cell_type": "code",
   "execution_count": 3,
   "metadata": {
    "scrolled": true
   },
   "outputs": [
    {
     "data": {
      "text/html": [
       "<div>\n",
       "<style scoped>\n",
       "    .dataframe tbody tr th:only-of-type {\n",
       "        vertical-align: middle;\n",
       "    }\n",
       "\n",
       "    .dataframe tbody tr th {\n",
       "        vertical-align: top;\n",
       "    }\n",
       "\n",
       "    .dataframe thead th {\n",
       "        text-align: right;\n",
       "    }\n",
       "</style>\n",
       "<table border=\"1\" class=\"dataframe\">\n",
       "  <thead>\n",
       "    <tr style=\"text-align: right;\">\n",
       "      <th></th>\n",
       "      <th>server_date_day</th>\n",
       "      <th>platform</th>\n",
       "      <th>user_id</th>\n",
       "      <th>session</th>\n",
       "      <th>Searches Home</th>\n",
       "      <th>Searches ListResult</th>\n",
       "      <th>Results Home</th>\n",
       "      <th>Results ListResult</th>\n",
       "      <th>Ads Returned Home</th>\n",
       "      <th>Ads Returned ListResult</th>\n",
       "      <th>replies</th>\n",
       "    </tr>\n",
       "  </thead>\n",
       "  <tbody>\n",
       "    <tr>\n",
       "      <th>0</th>\n",
       "      <td>2019-01-14</td>\n",
       "      <td>desktop</td>\n",
       "      <td>8e070f35b443617993eeabac8559011f48785261</td>\n",
       "      <td>2460e8718b32522bf2f0a3173a593445f00a7151</td>\n",
       "      <td>0</td>\n",
       "      <td>7</td>\n",
       "      <td>0</td>\n",
       "      <td>6</td>\n",
       "      <td>NaN</td>\n",
       "      <td>485.0</td>\n",
       "      <td>0</td>\n",
       "    </tr>\n",
       "    <tr>\n",
       "      <th>1</th>\n",
       "      <td>2019-01-05</td>\n",
       "      <td>mobile-html5</td>\n",
       "      <td>07f94eb0f96e75b9189f352bb2220218826e4b7a</td>\n",
       "      <td>aaa840193a94f621622818d61212ecfadddaadb1</td>\n",
       "      <td>1</td>\n",
       "      <td>0</td>\n",
       "      <td>1</td>\n",
       "      <td>0</td>\n",
       "      <td>44.0</td>\n",
       "      <td>NaN</td>\n",
       "      <td>0</td>\n",
       "    </tr>\n",
       "    <tr>\n",
       "      <th>2</th>\n",
       "      <td>2019-02-05</td>\n",
       "      <td>mobile-html5</td>\n",
       "      <td>0ecd0b5d3af1c6235df58ed1ec37a3868fc24e7e</td>\n",
       "      <td>388d6a288b43ddc709013f458667a4f9f5497502</td>\n",
       "      <td>1</td>\n",
       "      <td>1</td>\n",
       "      <td>1</td>\n",
       "      <td>1</td>\n",
       "      <td>1710.0</td>\n",
       "      <td>1710.0</td>\n",
       "      <td>0</td>\n",
       "    </tr>\n",
       "    <tr>\n",
       "      <th>3</th>\n",
       "      <td>2019-02-14</td>\n",
       "      <td>mobile-html5</td>\n",
       "      <td>1f4de186eca5694ed8432b9820f391c51f05b2c2</td>\n",
       "      <td>1f4de186eca5694ed8432b9820f391c51f05b2c2</td>\n",
       "      <td>1</td>\n",
       "      <td>0</td>\n",
       "      <td>1</td>\n",
       "      <td>0</td>\n",
       "      <td>168.0</td>\n",
       "      <td>NaN</td>\n",
       "      <td>0</td>\n",
       "    </tr>\n",
       "    <tr>\n",
       "      <th>4</th>\n",
       "      <td>2019-01-16</td>\n",
       "      <td>desktop</td>\n",
       "      <td>0eaa62f6cfcab6e2b5705e6618971479f08e15b3</td>\n",
       "      <td>7fd25b8b061376e9b426e9a0e76665b909bf6e43</td>\n",
       "      <td>0</td>\n",
       "      <td>2</td>\n",
       "      <td>0</td>\n",
       "      <td>2</td>\n",
       "      <td>NaN</td>\n",
       "      <td>503.0</td>\n",
       "      <td>0</td>\n",
       "    </tr>\n",
       "  </tbody>\n",
       "</table>\n",
       "</div>"
      ],
      "text/plain": [
       "  server_date_day      platform                                   user_id  \\\n",
       "0      2019-01-14       desktop  8e070f35b443617993eeabac8559011f48785261   \n",
       "1      2019-01-05  mobile-html5  07f94eb0f96e75b9189f352bb2220218826e4b7a   \n",
       "2      2019-02-05  mobile-html5  0ecd0b5d3af1c6235df58ed1ec37a3868fc24e7e   \n",
       "3      2019-02-14  mobile-html5  1f4de186eca5694ed8432b9820f391c51f05b2c2   \n",
       "4      2019-01-16       desktop  0eaa62f6cfcab6e2b5705e6618971479f08e15b3   \n",
       "\n",
       "                                    session  Searches Home  \\\n",
       "0  2460e8718b32522bf2f0a3173a593445f00a7151              0   \n",
       "1  aaa840193a94f621622818d61212ecfadddaadb1              1   \n",
       "2  388d6a288b43ddc709013f458667a4f9f5497502              1   \n",
       "3  1f4de186eca5694ed8432b9820f391c51f05b2c2              1   \n",
       "4  7fd25b8b061376e9b426e9a0e76665b909bf6e43              0   \n",
       "\n",
       "   Searches ListResult  Results Home  Results ListResult  Ads Returned Home  \\\n",
       "0                    7             0                   6                NaN   \n",
       "1                    0             1                   0               44.0   \n",
       "2                    1             1                   1             1710.0   \n",
       "3                    0             1                   0              168.0   \n",
       "4                    2             0                   2                NaN   \n",
       "\n",
       "   Ads Returned ListResult  replies  \n",
       "0                    485.0        0  \n",
       "1                      NaN        0  \n",
       "2                   1710.0        0  \n",
       "3                      NaN        0  \n",
       "4                    503.0        0  "
      ]
     },
     "execution_count": 3,
     "metadata": {},
     "output_type": "execute_result"
    }
   ],
   "source": [
    "# Importing and checking the data\n",
    "\n",
    "df = pd.read_excel('OLX Product Analyst Challenge.xlsx', sheet_name= 'data')\n",
    "df.head()"
   ]
  },
  {
   "cell_type": "code",
   "execution_count": 4,
   "metadata": {},
   "outputs": [
    {
     "data": {
      "text/plain": [
       "server_date_day               0\n",
       "platform                      0\n",
       "user_id                       0\n",
       "session                       0\n",
       "Searches Home                 0\n",
       "Searches ListResult           0\n",
       "Results Home                  0\n",
       "Results ListResult            0\n",
       "Ads Returned Home          8193\n",
       "Ads Returned ListResult    6224\n",
       "replies                       0\n",
       "dtype: int64"
      ]
     },
     "execution_count": 4,
     "metadata": {},
     "output_type": "execute_result"
    }
   ],
   "source": [
    "# Cheking nulls \n",
    "\n",
    "df.isnull().sum()"
   ]
  },
  {
   "cell_type": "markdown",
   "metadata": {},
   "source": [
    "Considering that the columns where there are null values are the columns of advertising return, I decided to **replace the nulls by zeros** understanding that when the values are null in these columns it means that there was no advertising return in that session"
   ]
  },
  {
   "cell_type": "code",
   "execution_count": 5,
   "metadata": {},
   "outputs": [],
   "source": [
    "# Replacing nulls by zeros\n",
    "\n",
    "df = df.fillna(0)"
   ]
  },
  {
   "cell_type": "code",
   "execution_count": 6,
   "metadata": {},
   "outputs": [
    {
     "data": {
      "text/plain": [
       "server_date_day            0\n",
       "platform                   0\n",
       "user_id                    0\n",
       "session                    0\n",
       "Searches Home              0\n",
       "Searches ListResult        0\n",
       "Results Home               0\n",
       "Results ListResult         0\n",
       "Ads Returned Home          0\n",
       "Ads Returned ListResult    0\n",
       "replies                    0\n",
       "dtype: int64"
      ]
     },
     "execution_count": 6,
     "metadata": {},
     "output_type": "execute_result"
    }
   ],
   "source": [
    "#there are no more null\n",
    "\n",
    "df.isnull().sum()"
   ]
  },
  {
   "cell_type": "markdown",
   "metadata": {},
   "source": [
    "**Correlations Before the new feature**"
   ]
  },
  {
   "cell_type": "code",
   "execution_count": 7,
   "metadata": {},
   "outputs": [
    {
     "data": {
      "image/png": "[encoded data removed]",
      "text/plain": [
       "<Figure size 792x648 with 2 Axes>"
      ]
     },
     "metadata": {},
     "output_type": "display_data"
    }
   ],
   "source": [
    "#Heat Map\n",
    "\n",
    "dfb = df[(df['server_date_day']< '2019-01-16') & (df['platform'] == 'desktop')]\n",
    "corr = dfb.corr('spearman')\n",
    "sns.set(style=\"white\")\n",
    "mask = np.triu(np.ones_like(corr, dtype=np.bool))\n",
    "f, ax = plt.subplots(figsize=(11, 9))\n",
    "cmap = sns.diverging_palette(220, 10, as_cmap=True)\n",
    "sns.heatmap(corr, mask=mask, cmap=cmap, vmax=.3, center=0,\n",
    "            square=True, annot=True, linewidths=.5, cbar_kws={\"shrink\": .5})\n",
    "plt.show()"
   ]
  },
  {
   "cell_type": "markdown",
   "metadata": {},
   "source": [
    "**Correlations after the new feature**"
   ]
  },
  {
   "cell_type": "code",
   "execution_count": 8,
   "metadata": {},
   "outputs": [],
   "source": [
    "dfa = df[(df['server_date_day']>= '2019-01-16') & (df['platform'] == 'desktop')]"
   ]
  },
  {
   "cell_type": "code",
   "execution_count": 9,
   "metadata": {},
   "outputs": [
    {
     "data": {
      "image/png": "[encoded data removed]",
      "text/plain": [
       "<Figure size 792x648 with 2 Axes>"
      ]
     },
     "metadata": {},
     "output_type": "display_data"
    }
   ],
   "source": [
    "#Heat Map\n",
    "\n",
    "corr = dfa.corr('spearman')\n",
    "sns.set(style=\"white\")\n",
    "mask = np.triu(np.ones_like(corr, dtype=np.bool))\n",
    "f, ax = plt.subplots(figsize=(11, 9))\n",
    "cmap = sns.diverging_palette(220, 10, as_cmap=True)\n",
    "sns.heatmap(corr, mask=mask, cmap=cmap, vmax=.3, center=0,\n",
    "            square=True, annot=True, linewidths=.5, cbar_kws={\"shrink\": .5})\n",
    "plt.show()"
   ]
  },
  {
   "cell_type": "markdown",
   "metadata": {},
   "source": [
    "- Considering that the new feature is a filter on the home page, the correlation of replies per search on the home page increased after the new feature \n",
    "- An important metric to measure the efficiency of the new feature would be the number of clicks performed, but I don't have this information to deepen the analysis \n",
    "- The adds returned don't have correlation with the replies\n",
    "- The improvement of the search results in the homepage with the filter implementation would justify the increase of the replies and search home correlation  "
   ]
  },
  {
   "cell_type": "markdown",
   "metadata": {},
   "source": [
    "Since the replies are the main metric to look at in this dataset, let's look at the distribution of this data "
   ]
  },
  {
   "cell_type": "code",
   "execution_count": 10,
   "metadata": {},
   "outputs": [
    {
     "data": {
      "text/plain": [
       "<AxesSubplot:xlabel='server_date_day'>"
      ]
     },
     "execution_count": 10,
     "metadata": {},
     "output_type": "execute_result"
    },
    {
     "data": {
      "image/png": "[encoded data removed]",
      "text/plain": [
       "<Figure size 432x288 with 1 Axes>"
      ]
     },
     "metadata": {},
     "output_type": "display_data"
    }
   ],
   "source": [
    "df.groupby('server_date_day').agg({'replies':'sum'}).plot()"
   ]
  },
  {
   "cell_type": "markdown",
   "metadata": {},
   "source": [
    "This was the highest peak of replies in our dataset and for this we will take a closer look "
   ]
  },
  {
   "cell_type": "code",
   "execution_count": 11,
   "metadata": {},
   "outputs": [
    {
     "data": {
      "text/plain": [
       "replies    400\n",
       "Name: 2018-12-26 00:00:00, dtype: int64"
      ]
     },
     "execution_count": 11,
     "metadata": {},
     "output_type": "execute_result"
    }
   ],
   "source": [
    "df.groupby('server_date_day').agg({'replies':'sum'}).loc['2018-12-26']"
   ]
  },
  {
   "cell_type": "markdown",
   "metadata": {},
   "source": [
    "# Outliers"
   ]
  },
  {
   "cell_type": "code",
   "execution_count": 12,
   "metadata": {},
   "outputs": [
    {
     "data": {
      "text/html": [
       "<div>\n",
       "<style scoped>\n",
       "    .dataframe tbody tr th:only-of-type {\n",
       "        vertical-align: middle;\n",
       "    }\n",
       "\n",
       "    .dataframe tbody tr th {\n",
       "        vertical-align: top;\n",
       "    }\n",
       "\n",
       "    .dataframe thead th {\n",
       "        text-align: right;\n",
       "    }\n",
       "</style>\n",
       "<table border=\"1\" class=\"dataframe\">\n",
       "  <thead>\n",
       "    <tr style=\"text-align: right;\">\n",
       "      <th></th>\n",
       "      <th>Searches Home</th>\n",
       "      <th>Searches ListResult</th>\n",
       "      <th>Results Home</th>\n",
       "      <th>Results ListResult</th>\n",
       "      <th>Ads Returned Home</th>\n",
       "      <th>Ads Returned ListResult</th>\n",
       "      <th>replies</th>\n",
       "    </tr>\n",
       "  </thead>\n",
       "  <tbody>\n",
       "    <tr>\n",
       "      <th>count</th>\n",
       "      <td>20067.000000</td>\n",
       "      <td>20067.000000</td>\n",
       "      <td>20067.000000</td>\n",
       "      <td>20067.000000</td>\n",
       "      <td>20067.000000</td>\n",
       "      <td>2.006700e+04</td>\n",
       "      <td>20067.000000</td>\n",
       "    </tr>\n",
       "    <tr>\n",
       "      <th>mean</th>\n",
       "      <td>0.765236</td>\n",
       "      <td>1.842976</td>\n",
       "      <td>0.744207</td>\n",
       "      <td>1.656850</td>\n",
       "      <td>2827.704390</td>\n",
       "      <td>5.260390e+03</td>\n",
       "      <td>0.284098</td>\n",
       "    </tr>\n",
       "    <tr>\n",
       "      <th>std</th>\n",
       "      <td>0.859195</td>\n",
       "      <td>12.365284</td>\n",
       "      <td>0.831036</td>\n",
       "      <td>2.577911</td>\n",
       "      <td>14653.134154</td>\n",
       "      <td>3.946082e+04</td>\n",
       "      <td>3.282152</td>\n",
       "    </tr>\n",
       "    <tr>\n",
       "      <th>min</th>\n",
       "      <td>0.000000</td>\n",
       "      <td>0.000000</td>\n",
       "      <td>0.000000</td>\n",
       "      <td>0.000000</td>\n",
       "      <td>0.000000</td>\n",
       "      <td>0.000000e+00</td>\n",
       "      <td>0.000000</td>\n",
       "    </tr>\n",
       "    <tr>\n",
       "      <th>25%</th>\n",
       "      <td>0.000000</td>\n",
       "      <td>0.000000</td>\n",
       "      <td>0.000000</td>\n",
       "      <td>0.000000</td>\n",
       "      <td>0.000000</td>\n",
       "      <td>0.000000e+00</td>\n",
       "      <td>0.000000</td>\n",
       "    </tr>\n",
       "    <tr>\n",
       "      <th>50%</th>\n",
       "      <td>1.000000</td>\n",
       "      <td>1.000000</td>\n",
       "      <td>1.000000</td>\n",
       "      <td>1.000000</td>\n",
       "      <td>28.000000</td>\n",
       "      <td>5.700000e+01</td>\n",
       "      <td>0.000000</td>\n",
       "    </tr>\n",
       "    <tr>\n",
       "      <th>75%</th>\n",
       "      <td>1.000000</td>\n",
       "      <td>2.000000</td>\n",
       "      <td>1.000000</td>\n",
       "      <td>2.000000</td>\n",
       "      <td>581.000000</td>\n",
       "      <td>5.800000e+02</td>\n",
       "      <td>0.000000</td>\n",
       "    </tr>\n",
       "    <tr>\n",
       "      <th>max</th>\n",
       "      <td>20.000000</td>\n",
       "      <td>1709.000000</td>\n",
       "      <td>20.000000</td>\n",
       "      <td>188.000000</td>\n",
       "      <td>532358.000000</td>\n",
       "      <td>3.060725e+06</td>\n",
       "      <td>381.000000</td>\n",
       "    </tr>\n",
       "  </tbody>\n",
       "</table>\n",
       "</div>"
      ],
      "text/plain": [
       "       Searches Home  Searches ListResult  Results Home  Results ListResult  \\\n",
       "count   20067.000000         20067.000000  20067.000000        20067.000000   \n",
       "mean        0.765236             1.842976      0.744207            1.656850   \n",
       "std         0.859195            12.365284      0.831036            2.577911   \n",
       "min         0.000000             0.000000      0.000000            0.000000   \n",
       "25%         0.000000             0.000000      0.000000            0.000000   \n",
       "50%         1.000000             1.000000      1.000000            1.000000   \n",
       "75%         1.000000             2.000000      1.000000            2.000000   \n",
       "max        20.000000          1709.000000     20.000000          188.000000   \n",
       "\n",
       "       Ads Returned Home  Ads Returned ListResult       replies  \n",
       "count       20067.000000             2.006700e+04  20067.000000  \n",
       "mean         2827.704390             5.260390e+03      0.284098  \n",
       "std         14653.134154             3.946082e+04      3.282152  \n",
       "min             0.000000             0.000000e+00      0.000000  \n",
       "25%             0.000000             0.000000e+00      0.000000  \n",
       "50%            28.000000             5.700000e+01      0.000000  \n",
       "75%           581.000000             5.800000e+02      0.000000  \n",
       "max        532358.000000             3.060725e+06    381.000000  "
      ]
     },
     "execution_count": 12,
     "metadata": {},
     "output_type": "execute_result"
    }
   ],
   "source": [
    "df.describe()"
   ]
  },
  {
   "cell_type": "markdown",
   "metadata": {},
   "source": [
    "Apparently we have some big outliers in this dataset "
   ]
  },
  {
   "cell_type": "code",
   "execution_count": 13,
   "metadata": {},
   "outputs": [
    {
     "data": {
      "text/plain": [
       "<AxesSubplot:xlabel='replies'>"
      ]
     },
     "execution_count": 13,
     "metadata": {},
     "output_type": "execute_result"
    },
    {
     "data": {
      "image/png": "[encoded data removed]",
      "text/plain": [
       "<Figure size 432x288 with 1 Axes>"
      ]
     },
     "metadata": {},
     "output_type": "display_data"
    }
   ],
   "source": [
    "#Detecting Outliers\n",
    "\n",
    "sns.boxplot(x=df['replies'])"
   ]
  },
  {
   "cell_type": "markdown",
   "metadata": {},
   "source": [
    "Looking at our dataset, we can see that there is a **threshold around 70 replies** and for these we will look more closely "
   ]
  },
  {
   "cell_type": "code",
   "execution_count": 14,
   "metadata": {
    "scrolled": true
   },
   "outputs": [
    {
     "data": {
      "text/html": [
       "<div>\n",
       "<style scoped>\n",
       "    .dataframe tbody tr th:only-of-type {\n",
       "        vertical-align: middle;\n",
       "    }\n",
       "\n",
       "    .dataframe tbody tr th {\n",
       "        vertical-align: top;\n",
       "    }\n",
       "\n",
       "    .dataframe thead th {\n",
       "        text-align: right;\n",
       "    }\n",
       "</style>\n",
       "<table border=\"1\" class=\"dataframe\">\n",
       "  <thead>\n",
       "    <tr style=\"text-align: right;\">\n",
       "      <th></th>\n",
       "      <th>server_date_day</th>\n",
       "      <th>platform</th>\n",
       "      <th>user_id</th>\n",
       "      <th>session</th>\n",
       "      <th>Searches Home</th>\n",
       "      <th>Searches ListResult</th>\n",
       "      <th>Results Home</th>\n",
       "      <th>Results ListResult</th>\n",
       "      <th>Ads Returned Home</th>\n",
       "      <th>Ads Returned ListResult</th>\n",
       "      <th>replies</th>\n",
       "    </tr>\n",
       "  </thead>\n",
       "  <tbody>\n",
       "    <tr>\n",
       "      <th>1037</th>\n",
       "      <td>2019-02-13</td>\n",
       "      <td>desktop</td>\n",
       "      <td>a16d67a49b455231c92bbe7909f0e83e30f2f09f</td>\n",
       "      <td>6061c25c5f6e827f349bb0926422aebfa6809ff1</td>\n",
       "      <td>1</td>\n",
       "      <td>16</td>\n",
       "      <td>1</td>\n",
       "      <td>16</td>\n",
       "      <td>1449.0</td>\n",
       "      <td>200.0</td>\n",
       "      <td>86</td>\n",
       "    </tr>\n",
       "    <tr>\n",
       "      <th>1110</th>\n",
       "      <td>2018-12-26</td>\n",
       "      <td>desktop</td>\n",
       "      <td>8189a5abe1e6448fbd574e3dbfb3f5792cc3ee82</td>\n",
       "      <td>ab2f39de49a1a254551e5f1ec0f0d48ff3cf7a01</td>\n",
       "      <td>2</td>\n",
       "      <td>9</td>\n",
       "      <td>2</td>\n",
       "      <td>9</td>\n",
       "      <td>25459.0</td>\n",
       "      <td>293.0</td>\n",
       "      <td>381</td>\n",
       "    </tr>\n",
       "    <tr>\n",
       "      <th>2820</th>\n",
       "      <td>2018-12-18</td>\n",
       "      <td>desktop</td>\n",
       "      <td>03f26c3b80beb6e6cfbaca5d047c8d2e4933641f</td>\n",
       "      <td>714a7dd1639c784bce5a50bd5ba615349fcbf8b2</td>\n",
       "      <td>1</td>\n",
       "      <td>2</td>\n",
       "      <td>1</td>\n",
       "      <td>2</td>\n",
       "      <td>13106.0</td>\n",
       "      <td>184.0</td>\n",
       "      <td>93</td>\n",
       "    </tr>\n",
       "    <tr>\n",
       "      <th>7628</th>\n",
       "      <td>2018-12-29</td>\n",
       "      <td>desktop</td>\n",
       "      <td>4eb5b2ab2b1a9913efb380830e3155a88b1e11b2</td>\n",
       "      <td>c7bb063341b79955882c8a1c2d12df0b902686d3</td>\n",
       "      <td>1</td>\n",
       "      <td>3</td>\n",
       "      <td>1</td>\n",
       "      <td>3</td>\n",
       "      <td>94716.0</td>\n",
       "      <td>66356.0</td>\n",
       "      <td>116</td>\n",
       "    </tr>\n",
       "  </tbody>\n",
       "</table>\n",
       "</div>"
      ],
      "text/plain": [
       "     server_date_day platform                                   user_id  \\\n",
       "1037      2019-02-13  desktop  a16d67a49b455231c92bbe7909f0e83e30f2f09f   \n",
       "1110      2018-12-26  desktop  8189a5abe1e6448fbd574e3dbfb3f5792cc3ee82   \n",
       "2820      2018-12-18  desktop  03f26c3b80beb6e6cfbaca5d047c8d2e4933641f   \n",
       "7628      2018-12-29  desktop  4eb5b2ab2b1a9913efb380830e3155a88b1e11b2   \n",
       "\n",
       "                                       session  Searches Home  \\\n",
       "1037  6061c25c5f6e827f349bb0926422aebfa6809ff1              1   \n",
       "1110  ab2f39de49a1a254551e5f1ec0f0d48ff3cf7a01              2   \n",
       "2820  714a7dd1639c784bce5a50bd5ba615349fcbf8b2              1   \n",
       "7628  c7bb063341b79955882c8a1c2d12df0b902686d3              1   \n",
       "\n",
       "      Searches ListResult  Results Home  Results ListResult  \\\n",
       "1037                   16             1                  16   \n",
       "1110                    9             2                   9   \n",
       "2820                    2             1                   2   \n",
       "7628                    3             1                   3   \n",
       "\n",
       "      Ads Returned Home  Ads Returned ListResult  replies  \n",
       "1037             1449.0                    200.0       86  \n",
       "1110            25459.0                    293.0      381  \n",
       "2820            13106.0                    184.0       93  \n",
       "7628            94716.0                  66356.0      116  "
      ]
     },
     "execution_count": 14,
     "metadata": {},
     "output_type": "execute_result"
    }
   ],
   "source": [
    "df.loc[df['replies']>70]"
   ]
  },
  {
   "cell_type": "markdown",
   "metadata": {},
   "source": [
    "We can observe that we have at least 4 outliers that draw attention. Especially a big outlier on the 26th of December. Of the 400 responses on this day, 381 were made by a single user in the same session. **This fact caught my attention and makes me suspect that this user might actually be a bot**"
   ]
  },
  {
   "cell_type": "markdown",
   "metadata": {},
   "source": [
    "Considering that these outlies can be a bias in our analysis, especially observing the hypothesis that at least one of them (December 26) can be, I decided to create a new measure in the dataset which I called **\"Conversion\"**\n",
    "\n",
    "**The conversion happens when in a session, a user made at least one reply.**\n",
    "By converting the replies in binary, being 0 when there was no reply and one when there was at least one reply, we eliminate the bias that the outlier can cause in our analysis"
   ]
  },
  {
   "cell_type": "code",
   "execution_count": 15,
   "metadata": {},
   "outputs": [],
   "source": [
    "# Converting the replies in binary \n",
    "\n",
    "df['conversion'] = df['replies'].apply(lambda x: 1 if x>0 else 0 )"
   ]
  },
  {
   "cell_type": "code",
   "execution_count": 16,
   "metadata": {},
   "outputs": [
    {
     "data": {
      "text/plain": [
       "<AxesSubplot:xlabel='server_date_day'>"
      ]
     },
     "execution_count": 16,
     "metadata": {},
     "output_type": "execute_result"
    },
    {
     "data": {
      "image/png": "[encoded data removed]",
      "text/plain": [
       "<Figure size 432x288 with 1 Axes>"
      ]
     },
     "metadata": {},
     "output_type": "display_data"
    }
   ],
   "source": [
    "#Checking the distribution of conversions \n",
    "\n",
    "df.groupby('server_date_day').agg({'conversion':'sum'}).plot()"
   ]
  },
  {
   "cell_type": "markdown",
   "metadata": {},
   "source": [
    "After converting the replies to binary, we can observe that we no longer have large biases in the data distribution "
   ]
  },
  {
   "cell_type": "markdown",
   "metadata": {},
   "source": [
    "# Applying the A/B Test"
   ]
  },
  {
   "cell_type": "markdown",
   "metadata": {},
   "source": [
    "For this step, it is necessary to split the data into before (b) and after (a) the date of the new feature.\n",
    "For the first test we will consider only the date of January 16th , and in the second test we will consider the date before the feature, the 16th , and after, the 22nd because as mentioned before, we had a period of problems between the 16th and the 22nd of January "
   ]
  },
  {
   "cell_type": "markdown",
   "metadata": {},
   "source": [
    "Considering that the new feature is only for the desktop platform, I decided to filter the data set only by this. "
   ]
  },
  {
   "cell_type": "markdown",
   "metadata": {},
   "source": [
    "**First test: Considering just the date before the new feature(16 January)**"
   ]
  },
  {
   "cell_type": "code",
   "execution_count": 17,
   "metadata": {},
   "outputs": [],
   "source": [
    "# splitting and filtering\n",
    "\n",
    "dfb = df[(df['server_date_day']< '2019-01-16') & (df['platform'] == 'desktop')]\n",
    "dfa = df[(df['server_date_day']>= '2019-01-16') & (df['platform'] == 'desktop')]"
   ]
  },
  {
   "cell_type": "code",
   "execution_count": 18,
   "metadata": {},
   "outputs": [
    {
     "name": "stdout",
     "output_type": "stream",
     "text": [
      "0.29047856830649876\n",
      "fail to reject the null hypothesis\n"
     ]
    }
   ],
   "source": [
    "ztest,pval = stests.ztest(dfb['replies'], dfa['replies'])\n",
    "\n",
    "print(float(pval))\n",
    "if pval<0.05:\n",
    "    print(\"reject null hypothesis\")\n",
    "else:\n",
    "    print(\"fail to reject the null hypothesis\")"
   ]
  },
  {
   "cell_type": "code",
   "execution_count": 19,
   "metadata": {},
   "outputs": [
    {
     "data": {
      "text/plain": [
       "0.4"
      ]
     },
     "execution_count": 19,
     "metadata": {},
     "output_type": "execute_result"
    }
   ],
   "source": [
    "round(dfb['replies'].mean(),2)"
   ]
  },
  {
   "cell_type": "code",
   "execution_count": 20,
   "metadata": {},
   "outputs": [
    {
     "data": {
      "text/plain": [
       "0.32"
      ]
     },
     "execution_count": 20,
     "metadata": {},
     "output_type": "execute_result"
    }
   ],
   "source": [
    "round(dfa['replies'].mean(),2)"
   ]
  },
  {
   "cell_type": "markdown",
   "metadata": {},
   "source": [
    "**Second test: Considering the date before the new feature(16 January) and the date after the problems period (22 January)**"
   ]
  },
  {
   "cell_type": "code",
   "execution_count": 21,
   "metadata": {},
   "outputs": [],
   "source": [
    "dfb = df[(df['server_date_day']< '2019-01-16') & (df['platform'] == 'desktop')]"
   ]
  },
  {
   "cell_type": "code",
   "execution_count": 22,
   "metadata": {},
   "outputs": [],
   "source": [
    "dfa = df[(df['server_date_day']> '2019-01-22') & (df['platform'] == 'desktop')]"
   ]
  },
  {
   "cell_type": "code",
   "execution_count": 23,
   "metadata": {},
   "outputs": [
    {
     "name": "stdout",
     "output_type": "stream",
     "text": [
      "0.32991647187001516\n",
      "fail to reject the null hypothesis\n"
     ]
    }
   ],
   "source": [
    "ztest ,pval = stests.ztest(dfb['replies'], dfa['replies'])\n",
    "print(float(pval))\n",
    "if pval<0.05:\n",
    "    print(\"reject null hypothesis\")\n",
    "else:\n",
    "    print(\"fail to reject the null hypothesis\")"
   ]
  },
  {
   "cell_type": "code",
   "execution_count": 24,
   "metadata": {},
   "outputs": [
    {
     "data": {
      "text/plain": [
       "0.4"
      ]
     },
     "execution_count": 24,
     "metadata": {},
     "output_type": "execute_result"
    }
   ],
   "source": [
    "round(dfb['replies'].mean(),2)"
   ]
  },
  {
   "cell_type": "code",
   "execution_count": 25,
   "metadata": {},
   "outputs": [
    {
     "data": {
      "text/plain": [
       "0.31"
      ]
     },
     "execution_count": 25,
     "metadata": {},
     "output_type": "execute_result"
    }
   ],
   "source": [
    "round(dfa['replies'].mean(),2)"
   ]
  },
  {
   "cell_type": "markdown",
   "metadata": {},
   "source": [
    "**Interestingly the problem period did not affect the average replies**"
   ]
  },
  {
   "cell_type": "markdown",
   "metadata": {},
   "source": [
    "**AB test for the conversion**"
   ]
  },
  {
   "cell_type": "markdown",
   "metadata": {},
   "source": [
    "The conversion rate is considered if there was at least one reply per search "
   ]
  },
  {
   "cell_type": "code",
   "execution_count": 26,
   "metadata": {},
   "outputs": [],
   "source": [
    "dfb = df[(df['server_date_day']< '2019-01-16') & (df['platform'] == 'desktop')]"
   ]
  },
  {
   "cell_type": "code",
   "execution_count": 27,
   "metadata": {},
   "outputs": [],
   "source": [
    "dfa = df[(df['server_date_day']>= '2019-01-16') & (df['platform'] == 'desktop')]"
   ]
  },
  {
   "cell_type": "code",
   "execution_count": 28,
   "metadata": {},
   "outputs": [
    {
     "name": "stdout",
     "output_type": "stream",
     "text": [
      "0.1528248674105147\n",
      "fail to reject the null hypothesis\n"
     ]
    }
   ],
   "source": [
    "from scipy import stats\n",
    "from statsmodels.stats import weightstats as stests \n",
    "ztest ,pval = stests.ztest(dfb['conversion'], dfa['conversion'])\n",
    "print(float(pval))\n",
    "if pval<0.05:\n",
    "    print(\"reject null hypothesis\")\n",
    "else:\n",
    "    print(\"fail to reject the null hypothesis\")"
   ]
  },
  {
   "cell_type": "markdown",
   "metadata": {},
   "source": [
    "-Some conclusions we can draw is that there was a small drop in the number of replies after the new feature but there was an increase in the number of conversions \n",
    "\n",
    "-Since the first month of analysis was December, which is a strong month for sales, this could be a bias in our analysis and justify the lower number of replies in the following months \n",
    "\n",
    "-After the new feature, we can observe a **higher home searchers with replies and we can conclude that the new search filter on the homepage brought positive results**\n",
    "\n",
    "-Ideally, the new feature should be made available only to part of the users so we can have more data to compare the results between these two groups in the same period"
   ]
  }
 ],
 "metadata": {
  "kernelspec": {
   "display_name": "Python 3",
   "language": "python",
   "name": "python3"
  },
  "language_info": {
   "codemirror_mode": {
    "name": "ipython",
    "version": 3
   },
   "file_extension": ".py",
   "mimetype": "text/x-python",
   "name": "python",
   "nbconvert_exporter": "python",
   "pygments_lexer": "ipython3",
   "version": "3.7.6"
  }
 },
 "nbformat": 4,
 "nbformat_minor": 4
}
